{
 "cells": [
  {
   "cell_type": "markdown",
   "metadata": {
    "language": "text"
   },
   "source": [
    "# *Fake news*\n",
    "\n",
    "\n",
    "## Comparación del poder predictivo de modelos de machine learning en la capacidad para detectar noticias falsas\n",
    "\n",
    "\n",
    "<br>\n",
    "La masificación del uso de internet ha cambiado la forma en la que vivimos para siempre. Nuestro modelo de consumo gira en torno al *smartphone; *desde la cesta de la compra hasta incluso ligar, la digitalización ha supuesto un gran avance en la calidad de vida de muchas personas. Sin embargo, el uso de internet es un arma de doble filo: la difusión de bulos amenaza a la estabilidad democrática de los países occidentales. Desde Rusia y China, o incluso desde nuestros propios Gobiernos, el uso de las llamadas *fake news *tiene una intencionalidad clara: servir a determinados colectivos sociales con intereses politicos y económicos diversos. Para detectar y eliminar estas noticias podemos hacer uso de la vasta cantidad de modelos predictivos de machine learning. Buscamos ser capaces de predecir con alta sensibilidad y especificidad cuales son fake news y cuales no lo son.\n",
    "\n",
    "\n",
    "### Metodologia\n",
    "\n",
    "\n",
    "> \n",
    "> * \n",
    ">   Preparación de un dataset con clases balanceadas a partir de dos dataset previos, fake y real, conteniendo varias decenas de miles de noticias falsas y verdaderas, respectivamente.\n",
    ">   \n",
    ">   \n",
    ">   \n",
    "> * \n",
    ">   Filtrado de variables. Vamos a combinar dos métodos de selección de variables: visualizaremos si existe una mayor proporción de fake news en determinadas categorias y, tras la aplicación del método *bag of words* seleccionaremos aquellas variables que tengan un valor del estadístico Chi2 más altas.\n",
    ">   \n",
    ">   \n",
    ">   \n",
    "> * \n",
    ">   Metodologia *bag of words*: es un muy conocido e intuitivo procedimiento de vectorización de texto usado en modelos Natural Language Processing (NLP). Brevemente, consiste en crear tantas variables como palabras distintas contiene un determinado texto, y asignar un número (1,2,3, etc) en función del número de veces que aparece esa palabra en un documento.\n",
    ">   \n",
    ">   \n",
    ">   \n",
    "> * \n",
    ">   Aplicación de varios modelos ML: Gradient Boosting, Regresion Logistica, Random Forest, SVM (lineal). La selección del mejor metodo se hará por medio de *held-out* dataset y comparacion del accuracy (porcentaje de noticias correctamente clasificadas como falsas y no falsas).\n",
    ">   \n",
    ">   \n",
    ">   \n",
    "> \n",
    "> \n",
    "> \n",
    "\n",
    "\n"
   ]
  },
  {
   "cell_type": "markdown",
   "metadata": {
    "language": "text"
   },
   "source": [
    "## 1. Data preparation\n",
    "\n",
    "<br>\n",
    "\n",
    "Para poder manejar el análisis cuajar la memoria de la maquina, voy elegir un subset de observaciones de los dataset fake y no fake en el que tendremos la misma cantidad de observaciones de cada clase\n",
    "\n",
    "<br>\n",
    "\n",
    "Importamos las librerías:\n",
    "\n"
   ]
  },
  {
   "cell_type": "code",
   "execution_count": 1,
   "metadata": {
    "cell.metadata.exec_info": {
     "endTs": 1596020925732,
     "startTs": 1596020922165
    },
    "language": "python"
   },
   "outputs": [
    {
     "name": "stderr",
     "output_type": "stream",
     "text": [
      "[nltk_data] Downloading package stopwords to\n",
      "[nltk_data]     /Users/ramonsotogarcia/nltk_data...\n",
      "[nltk_data]   Package stopwords is already up-to-date!\n",
      "[nltk_data] Downloading package wordnet to\n",
      "[nltk_data]     /Users/ramonsotogarcia/nltk_data...\n",
      "[nltk_data]   Package wordnet is already up-to-date!\n"
     ]
    }
   ],
   "source": [
    "import pandas as pd \n",
    "import seaborn as sns \n",
    "import matplotlib.pyplot as plt \n",
    "import numpy as np \n",
    "from sklearn.model_selection import GridSearchCV, RandomizedSearchCV\n",
    "from sklearn.feature_extraction.text import CountVectorizer\n",
    "from sklearn.linear_model import LogisticRegression\n",
    "from sklearn.ensemble import RandomForestClassifier, GradientBoostingClassifier\n",
    "from sklearn.svm import LinearSVC\n",
    "from sklearn.metrics import accuracy_score\n",
    "from sklearn.neighbors import NearestNeighbors\n",
    "\n",
    "\n",
    "#nlp functions\n",
    "\n",
    "import nltk\n",
    "nltk.download('stopwords') \n",
    "nltk.download('wordnet')\n",
    "from nltk.stem import WordNetLemmatizer\n",
    "from nltk.tokenize import RegexpTokenizer\n",
    "from nltk.corpus import stopwords\n",
    "from sklearn.feature_extraction.text import TfidfVectorizer\n",
    "\n",
    "\n",
    "#other\n",
    "\n",
    "import warnings\n",
    "warnings.filterwarnings(\"ignore\")\n"
   ]
  },
  {
   "cell_type": "markdown",
   "metadata": {
    "language": "text"
   },
   "source": [
    "Importamos los dos dataset y los procesamos:"
   ]
  },
  {
   "cell_type": "code",
   "execution_count": 2,
   "metadata": {
    "cell.metadata.exec_info": {
     "endTs": 1596020927815,
     "startTs": 1596020925755
    },
    "language": "python"
   },
   "outputs": [],
   "source": [
    "#importamos y concatenamos el dataset en uno solo\n",
    "\n",
    "df_fake = pd.read_csv(\"/Users/ramonsotogarcia/Desktop/Data/Fake news/Fake.csv\", header = 0)\n",
    "df_fake = df_fake.sample(frac = 0.05, random_state=123)\n",
    "df_real = pd.read_csv(\"/Users/ramonsotogarcia/Desktop/Data/Fake news/True.csv\", header = 0)\n",
    "df_real = df_real.sample(frac = 0.05, random_state=123)\n",
    "\n",
    "#fijarse que tomamos el 20% de los datos de arriba, para que os hagais una idea del tamanyo resultante si trabajo con el dataset completo\n",
    "\n",
    "\n",
    "df_fake[\"Fake\"] = [1 for i in range(df_fake.shape[0])]  #anyadimos la nueva variable objetivo\n",
    "df_real[\"Fake\"] = [0 for i in range(df_real.shape[0])]\n",
    "\n",
    "df = pd.concat([df_fake, df_real], axis = 0) #unimos los dos df\n",
    "\n",
    "df = df.sample(frac = 1)  #barajamos los datos\n",
    "\n",
    "df = df.rename(columns = {\"title\":\"titulo\", \"text\":\"texto\", \"subject\":\"categoria\"}) #renombramos las columnas (por comodidad)"
   ]
  },
  {
   "cell_type": "code",
   "execution_count": 28,
   "metadata": {},
   "outputs": [
    {
     "data": {
      "text/plain": [
       "titulo               object\n",
       "texto                object\n",
       "categoria            object\n",
       "Fake                  int64\n",
       "Date         datetime64[ns]\n",
       "Month                 int64\n",
       "All                  object\n",
       "dtype: object"
      ]
     },
     "execution_count": 28,
     "metadata": {},
     "output_type": "execute_result"
    }
   ],
   "source": [
    "df.dtypes"
   ]
  },
  {
   "cell_type": "markdown",
   "metadata": {},
   "source": [
    "- Convertimos a date time la columna **date**:"
   ]
  },
  {
   "cell_type": "code",
   "execution_count": null,
   "metadata": {},
   "outputs": [],
   "source": [
    "df[\"Date\"] = pd.to_datetime(df[\"date\"])\n",
    "\n",
    "df.drop(columns = \"date\", inplace = True)\n",
    "\n",
    "#add the variable Month\n",
    "\n",
    "df[\"Month\"] = df[\"Date\"].dt.month  "
   ]
  },
  {
   "cell_type": "markdown",
   "metadata": {},
   "source": [
    "Nuestro dataframe contiene la noticia en cada fila, y como variables tenemos tanto el titulo como el cuerpo de la misma. Asimismo tenemos la categoria y la columa que yo he creado en la que he puesto la *label* que servira para entrenar algoritmos de clasificacion."
   ]
  },
  {
   "cell_type": "code",
   "execution_count": 20,
   "metadata": {
    "cell.metadata.exec_info": {
     "endTs": 1596020928230,
     "startTs": 1596020927863
    },
    "language": "python"
   },
   "outputs": [],
   "source": [
    "#definimos una clase que sera util mas adelante:\n",
    "\n",
    "class news:\n",
    "    def __init__(self, corpus, fake):\n",
    "        self.corpus = corpus\n",
    "        self.fake = fake"
   ]
  },
  {
   "cell_type": "code",
   "execution_count": 21,
   "metadata": {},
   "outputs": [],
   "source": [
    "df[\"All\"] = df[\"titulo\"] + \" \" + df[\"texto\"]  #unimos el corpus de la noticia y el titulo, dejando un espacio en medio\n"
   ]
  },
  {
   "cell_type": "code",
   "execution_count": 25,
   "metadata": {},
   "outputs": [],
   "source": [
    "#los ponemos en una lista\n",
    "\n",
    "news_list = []\n",
    "\n",
    "for i in range(df.shape[0]):\n",
    "    news_list.append(news(df.iloc[i, 6], df.iloc[i,3]))"
   ]
  },
  {
   "cell_type": "code",
   "execution_count": 26,
   "metadata": {},
   "outputs": [
    {
     "name": "stdout",
     "output_type": "stream",
     "text": [
      "WOW! TREY GOWDY On Harry Reid’s Attack On Jim Comey: “I Didn’t Know Mormons Used Drugs” [Video]  \n",
      "1\n"
     ]
    }
   ],
   "source": [
    "#el objeto 0 de la lista es la primera noticia del dataframe\n",
    "\n",
    "print(news_list[0].corpus)\n",
    "\n",
    "print(news_list[0].fake)"
   ]
  },
  {
   "cell_type": "code",
   "execution_count": 24,
   "metadata": {},
   "outputs": [],
   "source": [
    "#separamos la lista para hacer el model training posterior\n",
    "\n",
    "y = [x.fake for x in news_list]  \n",
    "\n",
    "x = [x.corpus for x in news_list]\n",
    "\n",
    "\n"
   ]
  },
  {
   "cell_type": "markdown",
   "metadata": {
    "language": "text"
   },
   "source": [
    "### <br>\n",
    "\n",
    "## Exploratory data analysis\n",
    "\n",
    "<br>\n",
    "\n",
    "Cantidad de noticias falsas vs no falsas<br>\n",
    "\n"
   ]
  },
  {
   "cell_type": "code",
   "execution_count": 19,
   "metadata": {
    "cell.metadata.exec_info": {
     "endTs": 1596020928468,
     "startTs": 1596020928238
    },
    "language": "python"
   },
   "outputs": [
    {
     "data": {
      "text/plain": [
       "Fake\n",
       "0    1071\n",
       "1    1174\n",
       "Name: titulo, dtype: int64"
      ]
     },
     "execution_count": 19,
     "metadata": {},
     "output_type": "execute_result"
    }
   ],
   "source": [
    "df.groupby( by = \"Fake\").count()[\"titulo\"]"
   ]
  },
  {
   "cell_type": "code",
   "execution_count": 20,
   "metadata": {
    "cell.metadata.exec_info": {
     "endTs": 1596020928814,
     "startTs": 1596020928476
    },
    "language": "python"
   },
   "outputs": [
    {
     "data": {
      "image/png": "[encoded data removed]",
      "text/plain": [
       "<Figure size 600x600 with 1 Axes>"
      ]
     },
     "metadata": {
      "needs_background": "light"
     },
     "output_type": "display_data"
    }
   ],
   "source": [
    "plt.figure(figsize = (2,2), dpi = 300)\n",
    "\n",
    "sns.countplot(data = df, x = \"Fake\", palette = [\"red\", \"blue\"])\n",
    "plt.title(\"Numero de noticias falsas vs no falsas\", fontweight = \"bold\", fontsize = 8, pad=15)\n",
    "plt.xlabel(\"\")\n",
    "plt.show()"
   ]
  },
  {
   "cell_type": "markdown",
   "metadata": {
    "language": "text"
   },
   "source": [
    "Podría ser interesante ver si en algun mes en particular existe una mayor proporción de noticias falsas:"
   ]
  },
  {
   "cell_type": "code",
   "execution_count": 27,
   "metadata": {},
   "outputs": [
    {
     "data": {
      "image/png": "[encoded data removed]",
      "text/plain": [
       "<Figure size 600x600 with 1 Axes>"
      ]
     },
     "metadata": {
      "needs_background": "light"
     },
     "output_type": "display_data"
    }
   ],
   "source": [
    "#visualise if there is a different distribution of fake/real news per month\n",
    "\n",
    "plt.figure(figsize = (2,2), dpi = 300)\n",
    "\n",
    "sns.countplot(data = df, y = \"Month\", hue = \"Fake\", order = df[\"Month\"].value_counts().index, palette = [\"red\", \"blue\"])\n",
    "plt.yticks(fontsize = \"small\")\n",
    "plt.title(\"Distrubution of fake news, per month\", fontsize = 6, fontweight = \"bold\", pad = 12)\n",
    "plt.legend(fontsize = \"small\")\n",
    "plt.show()"
   ]
  },
  {
   "cell_type": "markdown",
   "metadata": {},
   "source": [
    "It seems in the first semester there is a much higher ratio of fake/real news. The last few months of the year it is the other way round."
   ]
  },
  {
   "cell_type": "code",
   "execution_count": 21,
   "metadata": {
    "cell.metadata.exec_info": {
     "endTs": 1596020929220,
     "startTs": 1596020928822
    },
    "language": "python"
   },
   "outputs": [
    {
     "data": {
      "image/png": "[encoded data removed]",
      "text/plain": [
       "<Figure size 600x600 with 1 Axes>"
      ]
     },
     "metadata": {
      "needs_background": "light"
     },
     "output_type": "display_data"
    }
   ],
   "source": [
    "df.loc[df[\"categoria\"] == \"politicsNews\", \"categoria\"] = \"politics\" \n",
    "\n",
    "plt.figure(figsize = (2,2), dpi = 300)\n",
    "\n",
    "sns.countplot(data = df, x = \"categoria\", hue = \"Fake\", palette = [\"red\", \"blue\"], order = df[\"categoria\"].value_counts().index)\n",
    "plt.xticks(rotation = 45, fontsize = \"x-small\", fontweight = \"bold\")\n",
    "plt.legend(fontsize = \"small\")\n",
    "plt.title(\"Distribucion de noticias fake/real por categoria\", fontsize= 6, fontweight = \"bold\", pad = 15)\n",
    "plt.xlabel(\"\")\n",
    "plt.show()"
   ]
  },
  {
   "cell_type": "markdown",
   "metadata": {
    "language": "text"
   },
   "source": [
    "Vemos por ejemplo que todas las categorías que están relacionadas con noticias del Gobierno o de Oriente Medio son falsas, lo que indica que la variable *Categoría* podría tener poder predictivo para discernir entre las fake news y las que no lo son. Como esta variable es categórica, tendremos que usar el llamado \"one hot encoding\" para convertir esta variable a *dummy*. "
   ]
  },
  {
   "cell_type": "markdown",
   "metadata": {
    "language": "text"
   },
   "source": [
    "### <br>\n",
    "\n",
    "## Bag of words: conversión de texto a vectores numéricos\n",
    "\n",
    "<br>\n",
    "\n",
    "- El objetivo es poder usar las palabras dentro del titulo de la noticia para poder predecir si esta es fake o no. Tambien podriamos usar el cuerpo de la noticia, pero la matriz numerica resultado del proceso de vectorización seria tan grande que cuajaria la memoria RAM de mi maquina. (Esto va en linea con lo que os comente, el volumen de datos es tan grande que es obligatorio trabajar con Spark sobre un data lake).\n",
    "\n",
    "<br>\n",
    "\n",
    "\n"
   ]
  },
  {
   "cell_type": "markdown",
   "metadata": {
    "language": "text"
   },
   "source": [
    "### **Bag of Words**"
   ]
  },
  {
   "cell_type": "code",
   "execution_count": 22,
   "metadata": {
    "cell.metadata.exec_info": {
     "endTs": 1596020933331,
     "startTs": 1596020930507
    },
    "language": "python"
   },
   "outputs": [],
   "source": [
    "#definimos la funcion que va a preprocesar el corpus de la noticia\n",
    "\n",
    "def preprocess_text(text):\n",
    "    # Tokenise words while ignoring punctuation\n",
    "    tokeniser = RegexpTokenizer(r'\\w+')  #aqui toquenizamos el texto, eligiendo solo los characteres alfanumericos\n",
    "    tokens = tokeniser.tokenize(text)\n",
    "    \n",
    "    # Lowercase and lemmatise \n",
    "    lemmatiser = WordNetLemmatizer() #aqui convertimos a diccionario y convertimos a minusculas\n",
    "    lemmas = [lemmatiser.lemmatize(token.lower(), pos='v') for token in tokens]\n",
    "    \n",
    "    # Remove stopwords  #eliminamos las palabras mas comunes en ingles\n",
    "    keywords= [lemma for lemma in lemmas if lemma not in stopwords.words('english')]\n",
    "    return keywords\n",
    "\n",
    "\n",
    "#esta funcion se la pasamos a TfIdfVectoriser:\n",
    "\n",
    "x_matrix = TfidfVectorizer(analyzer = preprocess_text).fit_transform(x)  #con esta funcion transformamos las palabras a vectores numericos usando el metodo \"bag of words\"\n",
    "\n",
    "x = pd.DataFrame.sparse.from_spmatrix(x_matrix)\n",
    "\n",
    "\n"
   ]
  },
  {
   "cell_type": "markdown",
   "metadata": {},
   "source": [
    "Una breve explicacion de lo que sucede en la celda anterior: \n",
    "\n",
    "- Primero extraemos los ***tokens*** del corpus de la noticia (en este caso, tanto el titulo como el cuerpo). Los tokens son las palabras unicas del texto, las que vamos a usar para convertirlas a una matriz numerica.\n",
    "\n",
    "- Segundo **convertimos a diccionario**. Esto significa que si tenemos dos palabras conjugadas del mismo verbo, por ejemplo \"juagaba y jugando\", ambas palabras se convertiran al infinitivo del verbo *jugar*.\n",
    "\n",
    "- Tercero: convertimos a **minisculas**.\n",
    "\n",
    "- Cuarto: eliminamos las ***stopwords***. Estas son las palabras del ingles que no van a suponer una ventaja respecto al poder predictivo de los modelos. Podemos imaginar como palabras como \"el, la, y, ante, cabe, con, etc\" son palabras que se repiten tanto que no serviran para la diferenciacion de las clases fake o no fake.\n",
    "\n",
    "- Quinto: Aplicacion del metodo ***Bag of words***. Este procedimiento convierte una cadena de texto a una matriz numerica en la que cada fila es un vector que tiene tantas dimiensiones como palabras unicas existe en el texto. Las frecuencias de cada palabra en cada vector se normalizan. El resultado es una matriz numerica muy grande, como vemos en la celda abajo. Hemos creado 52261 variables a partir de palabras unicas del texto, y solo hemos tomado el 20% de todas las observaciones iniciales! Como os comentaba durante la videollamada, este tipo de procesos implica un volumen de datos muy grande, lo cual hace necesario el uso de *data lakes* como GCS o Amazon S3."
   ]
  },
  {
   "cell_type": "code",
   "execution_count": 13,
   "metadata": {},
   "outputs": [
    {
     "data": {
      "text/html": [
       "<div>\n",
       "<style scoped>\n",
       "    .dataframe tbody tr th:only-of-type {\n",
       "        vertical-align: middle;\n",
       "    }\n",
       "\n",
       "    .dataframe tbody tr th {\n",
       "        vertical-align: top;\n",
       "    }\n",
       "\n",
       "    .dataframe thead th {\n",
       "        text-align: right;\n",
       "    }\n",
       "</style>\n",
       "<table border=\"1\" class=\"dataframe\">\n",
       "  <thead>\n",
       "    <tr style=\"text-align: right;\">\n",
       "      <th></th>\n",
       "      <th>0</th>\n",
       "      <th>1</th>\n",
       "      <th>2</th>\n",
       "      <th>3</th>\n",
       "      <th>4</th>\n",
       "      <th>5</th>\n",
       "      <th>6</th>\n",
       "      <th>7</th>\n",
       "      <th>8</th>\n",
       "      <th>9</th>\n",
       "      <th>...</th>\n",
       "      <th>52252</th>\n",
       "      <th>52253</th>\n",
       "      <th>52254</th>\n",
       "      <th>52255</th>\n",
       "      <th>52256</th>\n",
       "      <th>52257</th>\n",
       "      <th>52258</th>\n",
       "      <th>52259</th>\n",
       "      <th>52260</th>\n",
       "      <th>52261</th>\n",
       "    </tr>\n",
       "  </thead>\n",
       "  <tbody>\n",
       "    <tr>\n",
       "      <th>0</th>\n",
       "      <td>0.0</td>\n",
       "      <td>0.0</td>\n",
       "      <td>0.0</td>\n",
       "      <td>0.0</td>\n",
       "      <td>0.0</td>\n",
       "      <td>0.0</td>\n",
       "      <td>0.0</td>\n",
       "      <td>0.0</td>\n",
       "      <td>0.0</td>\n",
       "      <td>0.0</td>\n",
       "      <td>...</td>\n",
       "      <td>0.0</td>\n",
       "      <td>0.0</td>\n",
       "      <td>0.0</td>\n",
       "      <td>0.0</td>\n",
       "      <td>0.0</td>\n",
       "      <td>0.0</td>\n",
       "      <td>0.0</td>\n",
       "      <td>0.0</td>\n",
       "      <td>0.0</td>\n",
       "      <td>0.0</td>\n",
       "    </tr>\n",
       "    <tr>\n",
       "      <th>1</th>\n",
       "      <td>0.0</td>\n",
       "      <td>0.0</td>\n",
       "      <td>0.0</td>\n",
       "      <td>0.0</td>\n",
       "      <td>0.0</td>\n",
       "      <td>0.0</td>\n",
       "      <td>0.0</td>\n",
       "      <td>0.0</td>\n",
       "      <td>0.0</td>\n",
       "      <td>0.0</td>\n",
       "      <td>...</td>\n",
       "      <td>0.0</td>\n",
       "      <td>0.0</td>\n",
       "      <td>0.0</td>\n",
       "      <td>0.0</td>\n",
       "      <td>0.0</td>\n",
       "      <td>0.0</td>\n",
       "      <td>0.0</td>\n",
       "      <td>0.0</td>\n",
       "      <td>0.0</td>\n",
       "      <td>0.0</td>\n",
       "    </tr>\n",
       "    <tr>\n",
       "      <th>2</th>\n",
       "      <td>0.0</td>\n",
       "      <td>0.0</td>\n",
       "      <td>0.0</td>\n",
       "      <td>0.0</td>\n",
       "      <td>0.0</td>\n",
       "      <td>0.0</td>\n",
       "      <td>0.0</td>\n",
       "      <td>0.0</td>\n",
       "      <td>0.0</td>\n",
       "      <td>0.0</td>\n",
       "      <td>...</td>\n",
       "      <td>0.0</td>\n",
       "      <td>0.0</td>\n",
       "      <td>0.0</td>\n",
       "      <td>0.0</td>\n",
       "      <td>0.0</td>\n",
       "      <td>0.0</td>\n",
       "      <td>0.0</td>\n",
       "      <td>0.0</td>\n",
       "      <td>0.0</td>\n",
       "      <td>0.0</td>\n",
       "    </tr>\n",
       "    <tr>\n",
       "      <th>3</th>\n",
       "      <td>0.0</td>\n",
       "      <td>0.0</td>\n",
       "      <td>0.0</td>\n",
       "      <td>0.0</td>\n",
       "      <td>0.0</td>\n",
       "      <td>0.0</td>\n",
       "      <td>0.0</td>\n",
       "      <td>0.0</td>\n",
       "      <td>0.0</td>\n",
       "      <td>0.0</td>\n",
       "      <td>...</td>\n",
       "      <td>0.0</td>\n",
       "      <td>0.0</td>\n",
       "      <td>0.0</td>\n",
       "      <td>0.0</td>\n",
       "      <td>0.0</td>\n",
       "      <td>0.0</td>\n",
       "      <td>0.0</td>\n",
       "      <td>0.0</td>\n",
       "      <td>0.0</td>\n",
       "      <td>0.0</td>\n",
       "    </tr>\n",
       "    <tr>\n",
       "      <th>4</th>\n",
       "      <td>0.0</td>\n",
       "      <td>0.0</td>\n",
       "      <td>0.0</td>\n",
       "      <td>0.0</td>\n",
       "      <td>0.0</td>\n",
       "      <td>0.0</td>\n",
       "      <td>0.0</td>\n",
       "      <td>0.0</td>\n",
       "      <td>0.0</td>\n",
       "      <td>0.0</td>\n",
       "      <td>...</td>\n",
       "      <td>0.0</td>\n",
       "      <td>0.0</td>\n",
       "      <td>0.0</td>\n",
       "      <td>0.0</td>\n",
       "      <td>0.0</td>\n",
       "      <td>0.0</td>\n",
       "      <td>0.0</td>\n",
       "      <td>0.0</td>\n",
       "      <td>0.0</td>\n",
       "      <td>0.0</td>\n",
       "    </tr>\n",
       "  </tbody>\n",
       "</table>\n",
       "<p>5 rows × 52262 columns</p>\n",
       "</div>"
      ],
      "text/plain": [
       "   0      1      2      3      4      5      6      7      8      9      ...  \\\n",
       "0    0.0    0.0    0.0    0.0    0.0    0.0    0.0    0.0    0.0    0.0  ...   \n",
       "1    0.0    0.0    0.0    0.0    0.0    0.0    0.0    0.0    0.0    0.0  ...   \n",
       "2    0.0    0.0    0.0    0.0    0.0    0.0    0.0    0.0    0.0    0.0  ...   \n",
       "3    0.0    0.0    0.0    0.0    0.0    0.0    0.0    0.0    0.0    0.0  ...   \n",
       "4    0.0    0.0    0.0    0.0    0.0    0.0    0.0    0.0    0.0    0.0  ...   \n",
       "\n",
       "   52252  52253  52254  52255  52256  52257  52258  52259  52260  52261  \n",
       "0    0.0    0.0    0.0    0.0    0.0    0.0    0.0    0.0    0.0    0.0  \n",
       "1    0.0    0.0    0.0    0.0    0.0    0.0    0.0    0.0    0.0    0.0  \n",
       "2    0.0    0.0    0.0    0.0    0.0    0.0    0.0    0.0    0.0    0.0  \n",
       "3    0.0    0.0    0.0    0.0    0.0    0.0    0.0    0.0    0.0    0.0  \n",
       "4    0.0    0.0    0.0    0.0    0.0    0.0    0.0    0.0    0.0    0.0  \n",
       "\n",
       "[5 rows x 52262 columns]"
      ]
     },
     "execution_count": 13,
     "metadata": {},
     "output_type": "execute_result"
    }
   ],
   "source": [
    "x.head(5)  #resultado del metodo Bag of Words"
   ]
  },
  {
   "cell_type": "markdown",
   "metadata": {},
   "source": [
    "Vemos como hemos pasado de un listado de noticias a una matriz numerica. Esta la usaremos para construir nuestros modelos de machine learning."
   ]
  },
  {
   "cell_type": "markdown",
   "metadata": {
    "language": "text"
   },
   "source": [
    "## 2. Selección de variables: metodo *Univariate feature selection* con el estadistico chi2\n",
    "\n",
    "<br>\n",
    "\n",
    "Ahora que ya hemos creado el dataframe final con el que vamos a trabajar, vamos poner en un ranking todas las variables en orden ascendente del resultado de un test Chi2 contra la variable objetivo binaria *Fake*. Es importante recordar que los test de hipótesis están fuertemente afectados por el tamaño muestral, de forma que cuanto mayor es esto último, menor sera el p value resultante del test. Esto quiere decir que el error tipo 2 (falsos negativos) sera practicamente inexistente, pero muy probablemente las diferencias detectadas sean insignificantes a pesar de tener un p-value muy bajo.\n",
    "\n"
   ]
  },
  {
   "cell_type": "code",
   "execution_count": 14,
   "metadata": {
    "cell.metadata.exec_info": {
     "endTs": 1596020940410,
     "startTs": 1596020937310
    },
    "language": "python"
   },
   "outputs": [],
   "source": [
    "from sklearn.feature_selection import chi2, SelectKBest\n",
    "\n",
    "k_best = SelectKBest(chi2, k = \"all\").fit(x, y) \n",
    "\n",
    "chi_results = pd.DataFrame(data = {\"Features\":x.columns, \"Chi2 p_value\": k_best.pvalues_})\n",
    "\n",
    "chi_results = chi_results.sort_values(by = \"Chi2 p_value\", ascending = True)\n"
   ]
  },
  {
   "cell_type": "code",
   "execution_count": 15,
   "metadata": {
    "cell.metadata.exec_info": {
     "endTs": 1596020940620,
     "startTs": 1596020940483
    },
    "language": "python"
   },
   "outputs": [
    {
     "name": "stdout",
     "output_type": "stream",
     "text": [
      "Hay un total de:  0.35 % de variables significativas segun el Chi 2 test para un alpha = 0.001\n",
      "Hay un total de:  0.83 % de variables significativas segun el Chi 2 test para un alpha = 0.01\n",
      "Hay un total de:  1.67 % de variables significativas segun el Chi 2 test para un alpha = 0.05\n"
     ]
    }
   ],
   "source": [
    "print(\"Hay un total de: \", round(((chi_results.loc[chi_results[\"Chi2 p_value\"] < 0.001].shape[0] / x.shape[1])* 100), 2),\"% de variables significativas segun el Chi 2 test para un alpha = 0.001\")\n",
    "print(\"Hay un total de: \", round(((chi_results.loc[chi_results[\"Chi2 p_value\"] < 0.01].shape[0] / x.shape[1])* 100), 2),\"% de variables significativas segun el Chi 2 test para un alpha = 0.01\")\n",
    "print(\"Hay un total de: \", round(((chi_results.loc[chi_results[\"Chi2 p_value\"] < 0.05].shape[0] / x.shape[1])* 100), 2),\"% de variables significativas segun el Chi 2 test para un alpha = 0.05\")\n",
    "\n",
    "\n"
   ]
  },
  {
   "cell_type": "markdown",
   "metadata": {
    "language": "text"
   },
   "source": [
    "En este momento podemos decidir cuan conservadores queremos ser. Con un alpha muy bajo tendremos menos falsos positivos, pero dejaremos falsos negativos sin seleccionar, por no hablar de las posibles interacciones que haya entre las variables que se queden fuera del análisis. Al contrario, con un gran valor de alpha es posible que tengamos menos falsos negativos, pero tendremos mas falsos positivos. "
   ]
  },
  {
   "cell_type": "markdown",
   "metadata": {
    "language": "text"
   },
   "source": [
    "\n",
    "\n",
    "## Machine Learning\n",
    "\n",
    "\n",
    "\n",
    "Vamos a seleccionar las variables que tienen un p-value menor a 0.05 y realizar modelos predictivos. La elección del mejor modelo se realizara comparando el accuracy o el porcentaje de noticias correctamente clasificadas como falsas o no falsas.\n",
    "\n",
    "- Para ello, partimos el dataset en train y validation set, usando este ultimo para validar el rendimiento del modelo. Por ultimo, usaremos el test dataset (separado inicialmente antes de la particion train/validation set) una vez elegido el mejor modelo para evaluar su rendimiento en datos independientes.\n",
    "\n",
    "\n"
   ]
  },
  {
   "cell_type": "markdown",
   "metadata": {
    "language": "text"
   },
   "source": [
    "<br>\n",
    "\n",
    "Selección de variables y preparacion previo al ML"
   ]
  },
  {
   "cell_type": "code",
   "execution_count": 31,
   "metadata": {
    "cell.metadata.exec_info": {
     "endTs": 1596020941358,
     "startTs": 1596020940624
    },
    "language": "python"
   },
   "outputs": [],
   "source": [
    "from sklearn.model_selection import train_test_split\n",
    "\n",
    "df_p1 = chi_results.loc[chi_results[\"Chi2 p_value\"] < 0.05, \"Features\"].values  #lo guardamos como un array\n",
    "x_final = x.loc[:, df_p1] #seleccionamos estas variables del dataframe original\n",
    "x_final[\"Fake\"] = y\n",
    "\n",
    "x_final.reset_index(inplace = True)\n",
    "x_final.sample(frac = 1)  #barajamos los datos\n",
    "\n",
    "\n",
    "x = x_final.drop(columns= \"Fake\")  #variables predictoras y objetivo finales\n",
    "y = x_final[\"Fake\"]\n",
    "\n",
    "#original split\n",
    "\n",
    "#el x_test_original lo usaremos para evaluar el rendimiento del modelo en datos independientes\n",
    "\n",
    "x_train_original, x_test_original, y_train_original, y_test_original = train_test_split(x, y, random_state=123, test_size=0.2, stratify = y)\n",
    "\n",
    "df_train = pd.concat([x_train_original, y_train_original], axis = 1)  #necesario para hacer el split sobre el train data\n",
    "\n",
    "df_train.reset_index(inplace = True)\n",
    "\n",
    "x_model = df_train.drop(columns = [\"Fake\"])\n",
    "y_model = df_train[\"Fake\"]\n",
    "\n",
    "#volvemos a partir del train dataset para evaluar nuestros modelos\n",
    "\n",
    "#ahora obtenemos el training set, que usaremos para entrenar los modelos, \n",
    "#y el validation set, que usaremos para comparar el rendimiento entre todos los modelos\n",
    "\n",
    "x_train, x_test, y_train, y_test = train_test_split(x_model, y_model, random_state=123, test_size=0.2, stratify = y_model)\n",
    "\n"
   ]
  },
  {
   "cell_type": "markdown",
   "metadata": {
    "language": "text"
   },
   "source": [
    "### Regresion Logistica<br>\n",
    "\n"
   ]
  },
  {
   "cell_type": "code",
   "execution_count": 32,
   "metadata": {
    "cell.metadata.exec_info": {
     "endTs": 1596020944085,
     "startTs": 1596020941373
    },
    "language": "python"
   },
   "outputs": [],
   "source": [
    "lr_model = LogisticRegression().fit(x_train, y_train)\n",
    "\n",
    "preds = lr_model.predict(x_test)\n",
    "\n",
    "lr_acc = accuracy_score(y_test, preds)\n",
    "\n"
   ]
  },
  {
   "cell_type": "markdown",
   "metadata": {
    "language": "text"
   },
   "source": [
    "### Linear SVM\n",
    "\n"
   ]
  },
  {
   "cell_type": "code",
   "execution_count": 33,
   "metadata": {
    "cell.metadata.exec_info": {
     "endTs": 1596021044923,
     "startTs": 1596020944151
    },
    "language": "python"
   },
   "outputs": [],
   "source": [
    "\n",
    "svm_model = LinearSVC(C=1.0).fit(x_train, y_train)\n",
    "\n",
    "preds = svm_model.predict(x_test)\n",
    "\n",
    "svm_acc = accuracy_score(y_test, preds)\n",
    "\n",
    "\n"
   ]
  },
  {
   "cell_type": "markdown",
   "metadata": {
    "language": "text"
   },
   "source": [
    "### Random Forest Classifier\n",
    "\n"
   ]
  },
  {
   "cell_type": "code",
   "execution_count": 34,
   "metadata": {
    "cell.metadata.exec_info": {
     "endTs": 1596021681707,
     "startTs": 1596021487651
    },
    "language": "python"
   },
   "outputs": [],
   "source": [
    "rf = RandomForestClassifier(min_samples_leaf = 30, n_estimators = 500, max_features = \"sqrt\").fit(x_train, y_train)\n",
    "\n",
    "preds = rf.predict(x_test)\n",
    "\n",
    "rf_acc = accuracy_score(y_test, preds)\n"
   ]
  },
  {
   "cell_type": "markdown",
   "metadata": {
    "language": "text"
   },
   "source": [
    "### Gradient Boosting\n",
    "\n"
   ]
  },
  {
   "cell_type": "code",
   "execution_count": 35,
   "metadata": {
    "cell.metadata.exec_info": {
     "endTs": 1596022118368,
     "startTs": 1596021681743
    },
    "language": "python"
   },
   "outputs": [],
   "source": [
    "gb =  GradientBoostingClassifier(max_depth=2, n_estimators = 300, learning_rate = 0.1).fit(x_train, y_train)\n",
    "\n",
    "preds = gb.predict(x_test)\n",
    "\n",
    "gb_acc = accuracy_score(y_test, preds)\n"
   ]
  },
  {
   "cell_type": "markdown",
   "metadata": {},
   "source": [
    "#### Comparacion de rendimiento entre modelos ML"
   ]
  },
  {
   "cell_type": "code",
   "execution_count": 36,
   "metadata": {
    "cell.metadata.exec_info": {
     "endTs": 1596022118826,
     "startTs": 1596022118389
    },
    "language": "python"
   },
   "outputs": [
    {
     "data": {
      "image/png": "[encoded data removed]",
      "text/plain": [
       "<Figure size 600x600 with 1 Axes>"
      ]
     },
     "metadata": {
      "needs_background": "light"
     },
     "output_type": "display_data"
    }
   ],
   "source": [
    "#visualizacion de los resultados de ML\n",
    "\n",
    "\n",
    "results_df = pd.DataFrame(data = dict(Model = [\"LR\", \"SVM linear\", \"RF\", \"GB\"], accuracy = [lr_acc, svm_acc, rf_acc, gb_acc]))\n",
    "\n",
    "results_df.sort_values(by = \"accuracy\", ascending = False, inplace = True)\n",
    "\n",
    "plt.figure(figsize = (2,2), dpi= 300)\n",
    "\n",
    "sns.barplot(data = results_df, x = \"Model\", y = \"accuracy\")\n",
    "plt.title(\"Comparison of model performance across classifiers\", fontsize = 6, fontweight = \"bold\", pad = 13)\n",
    "plt.xticks(rotation = 45, fontsize = \"xx-small\")\n",
    "plt.xlabel(\"\")\n",
    "plt.show()\n",
    "\n"
   ]
  },
  {
   "cell_type": "markdown",
   "metadata": {},
   "source": [
    "Parece que los metodos no parametricos son los que mejor resultado proporcionan en cuanto a la correcta clasificacion de noticias. Aparentemente las clases no pueden ser separadas con un metodo lineal como la regresion logistica o el SVM con kernel lineal, lo cual es de esperar en datos complejos como los analisis de texto. Hay que indicar que el random forest aqui encontrado como el mejor modelo debe ser validado en posteriores datasets. Tambien es necesario mencionar que, por motivos de eficiencia computacional, hemos entrenado el modelo con un subset de las noticias del dataset y hemos elegido una fraccion de las variables tras la conversion a matriz numerica."
   ]
  },
  {
   "cell_type": "markdown",
   "metadata": {},
   "source": [
    "### Visualizar la matriz de confusion"
   ]
  },
  {
   "cell_type": "markdown",
   "metadata": {},
   "source": [
    "- Visualizar la matriz de confusion proporciona una inspeccion visual sobre el rendimiento del clasificador en terminos de sensibilidad y especificidad. Brevemente, cuanto mayor es el numero de observaciones en la diagonal de la matriz, mas sensible y mas especifico es el modelo."
   ]
  },
  {
   "cell_type": "markdown",
   "metadata": {},
   "source": [
    "#### Random Forest (mejor modelo)"
   ]
  },
  {
   "cell_type": "code",
   "execution_count": 37,
   "metadata": {},
   "outputs": [],
   "source": [
    "#model fit\n",
    "\n",
    "rf = RandomForestClassifier(min_samples_leaf = 30, n_estimators = 500, max_features = \"sqrt\").fit(x_train, y_train)\n",
    "\n",
    "preds = rf.predict(x_test) #predicciones en el validation set"
   ]
  },
  {
   "cell_type": "code",
   "execution_count": 38,
   "metadata": {},
   "outputs": [
    {
     "data": {
      "text/plain": [
       "<Figure size 600x600 with 0 Axes>"
      ]
     },
     "metadata": {},
     "output_type": "display_data"
    },
    {
     "data": {
      "image/png": "[encoded data removed]",
      "text/plain": [
       "<Figure size 432x288 with 2 Axes>"
      ]
     },
     "metadata": {
      "needs_background": "light"
     },
     "output_type": "display_data"
    }
   ],
   "source": [
    "from sklearn.metrics import ConfusionMatrixDisplay, confusion_matrix\n",
    "\n",
    "c_matrix = confusion_matrix(y_true = y_test, y_pred = preds, labels = rf.classes_)\n",
    "\n",
    "plt.figure(figsize = (2,2), dpi = 300)\n",
    "\n",
    "ConfusionMatrixDisplay(c_matrix).plot()\n",
    "plt.xticks(rotation = 45)\n",
    "plt.show()"
   ]
  },
  {
   "cell_type": "markdown",
   "metadata": {},
   "source": [
    "#### Resultados"
   ]
  },
  {
   "cell_type": "code",
   "execution_count": 39,
   "metadata": {},
   "outputs": [
    {
     "name": "stdout",
     "output_type": "stream",
     "text": [
      "              precision    recall  f1-score   support\n",
      "\n",
      "           0      0.993     0.996     0.994       685\n",
      "           1      0.996     0.993     0.995       752\n",
      "\n",
      "    accuracy                          0.994      1437\n",
      "   macro avg      0.994     0.994     0.994      1437\n",
      "weighted avg      0.994     0.994     0.994      1437\n",
      "\n"
     ]
    }
   ],
   "source": [
    "from sklearn.metrics import classification_report\n",
    "\n",
    "print(classification_report(y_true = y_test, y_pred = preds, digits = 3))"
   ]
  },
  {
   "cell_type": "markdown",
   "metadata": {},
   "source": [
    "La **precision** se define como la proporcion de verdaderos positivos (en este caso, las noticias que son fake) dentro de todas las noticias declaradas como positivas. En este caso, de cada 100 noticias que la regresion logistica considera que son falsas, 99.6 de ellas son realmente falsas.\n",
    "\n",
    "El **recall** es un sinonimo de sensibilidad. Es decir, la proporcion de noticias falsas que el clasificador correctamente clasifica como falsas.\n",
    "\n",
    "El **f1-score** es una metrica que evalua como de bueno es el clasificador. Cuanto mayores sean precision y recall, mas cercado es este valor a 1 (el valor maximo)"
   ]
  },
  {
   "cell_type": "markdown",
   "metadata": {},
   "source": [
    "### Evaluacion del rendimiento del modelo en el test data"
   ]
  },
  {
   "cell_type": "markdown",
   "metadata": {},
   "source": [
    "Ahora vamos a usar el 20% de los datos restantes que no han sido usados para entrenar el modelo. El objetivo es testar la eficacia del algoritmo random forest en datos que no han sido \"vistos\" por el modelo. Esto nos va a ayudar a evaluar el rendimiento del modelo en datos independientes y saber si hemos incurrido en *overfitting*, lo cual indicaria que el modelo se comporta muy bien en datos *training* pero no puede generalizar correctamente a futuros datos. "
   ]
  },
  {
   "cell_type": "code",
   "execution_count": 40,
   "metadata": {},
   "outputs": [],
   "source": [
    "#elegimos el mejor modelo en cuanto a accuracy\n",
    "\n",
    "#model fit\n",
    "\n",
    "rf = RandomForestClassifier(min_samples_leaf = 30, n_estimators = 500, max_features = \"sqrt\").fit(x_train_original, y_train_original)\n",
    "\n",
    "preds = rf.predict(x_test_original) #predicciones en el test set"
   ]
  },
  {
   "cell_type": "code",
   "execution_count": 41,
   "metadata": {},
   "outputs": [
    {
     "data": {
      "text/plain": [
       "<Figure size 600x600 with 0 Axes>"
      ]
     },
     "metadata": {},
     "output_type": "display_data"
    },
    {
     "data": {
      "image/png": "[encoded data removed]",
      "text/plain": [
       "<Figure size 432x288 with 2 Axes>"
      ]
     },
     "metadata": {
      "needs_background": "light"
     },
     "output_type": "display_data"
    }
   ],
   "source": [
    "c_matrix = confusion_matrix(y_true = y_test_original, y_pred = preds, labels = rf.classes_)\n",
    "\n",
    "plt.figure(figsize = (2,2), dpi = 300)\n",
    "\n",
    "ConfusionMatrixDisplay(c_matrix).plot()\n",
    "plt.xticks(rotation = 45)\n",
    "plt.show()"
   ]
  },
  {
   "cell_type": "markdown",
   "metadata": {},
   "source": [
    " - Vemos que tenemos valores muy altos en la diagonal de la matriz de confusion y muy pocos en los componentes de la off-diagonal. El modelo clasifica correctamente tanto noticias falsas como noticas no falsas lo que indica que el rendimiento del modelo es muy bueno en el test data. A falta de una posterior validacion con futuros datos, el random forest entrenado aqui es un buen modelo para detectar noticias falsas."
   ]
  },
  {
   "cell_type": "code",
   "execution_count": 43,
   "metadata": {},
   "outputs": [
    {
     "name": "stdout",
     "output_type": "stream",
     "text": [
      "              precision    recall  f1-score   support\n",
      "\n",
      "           0      0.995     0.996     0.996       857\n",
      "           1      0.997     0.996     0.996       939\n",
      "\n",
      "    accuracy                          0.996      1796\n",
      "   macro avg      0.996     0.996     0.996      1796\n",
      "weighted avg      0.996     0.996     0.996      1796\n",
      "\n"
     ]
    }
   ],
   "source": [
    "print(classification_report(y_true = y_test_original, y_pred = preds, digits = 3))"
   ]
  }
 ],
 "metadata": {
  "config": {
   "dependencies": {},
   "env": {},
   "exclusions": [],
   "repositories": []
  },
  "kernelspec": {
   "display_name": "Python 3",
   "language": "python",
   "name": "python3"
  },
  "language_info": {
   "codemirror_mode": {
    "name": "ipython",
    "version": 3
   },
   "file_extension": ".py",
   "mimetype": "text/x-python",
   "name": "python",
   "nbconvert_exporter": "python",
   "pygments_lexer": "ipython3",
   "version": "3.8.5"
  }
 },
 "nbformat": 4,
 "nbformat_minor": 1
}
